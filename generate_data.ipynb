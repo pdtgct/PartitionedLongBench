{
 "cells": [
  {
   "cell_type": "markdown",
   "metadata": {},
   "source": [
    "# Installation\n",
    "\n",
    "1. Download the LLaMA 2 Tokenzier from https://huggingface.co/meta-llama/Llama-2-7b-hf/tree/main \n",
    "   and place the files into a directory named `llama2_tokenizer` in the same \n",
    "   directory as this notebook.\n",
    "\n",
    "2. install the python packages below:"
   ]
  },
  {
   "cell_type": "code",
   "execution_count": 2,
   "metadata": {},
   "outputs": [],
   "source": [
    "!pip install --quiet transformers pandas"
   ]
  },
  {
   "cell_type": "code",
   "execution_count": 2,
   "metadata": {},
   "outputs": [],
   "source": [
    "import glob\n",
    "from pathlib import Path\n",
    "import unicodedata\n",
    "\n",
    "import pandas as pd\n",
    "from transformers import AutoTokenizer"
   ]
  },
  {
   "cell_type": "code",
   "execution_count": 3,
   "metadata": {},
   "outputs": [],
   "source": [
    "TOKENIZER_DIR = 'llama2_tokenizer'\n",
    "DATA_DIR = Path('data')\n",
    "DATASET_DIR = Path('dataset')"
   ]
  },
  {
   "cell_type": "code",
   "execution_count": null,
   "metadata": {},
   "outputs": [],
   "source": [
    "!mkdir -p dataset"
   ]
  },
  {
   "cell_type": "code",
   "execution_count": 4,
   "metadata": {},
   "outputs": [],
   "source": [
    "tk = AutoTokenizer.from_pretrained(TOKENIZER_DIR)"
   ]
  },
  {
   "cell_type": "code",
   "execution_count": 11,
   "metadata": {},
   "outputs": [],
   "source": [
    "PROMPT_FMT = \"\"\"\\\n",
    "<s>[INST] <<SYS>>\n",
    "You are an assistant for question-answering tasks. Use the following pieces of \\\n",
    "retrieved context in the section demarcated by \"```\" to answer the question. \\\n",
    "If you don't know the answer just say that you don't know. Use three sentences \\\n",
    "maximum and keep the answer concise.\n",
    "<</SYS>>\n",
    "\n",
    "```\n",
    "{context}\n",
    "```\n",
    "\n",
    "Question: {question}\n",
    "\n",
    "[/INST]\n",
    "Answer:\n",
    "\"\"\""
   ]
  },
  {
   "cell_type": "code",
   "execution_count": 6,
   "metadata": {},
   "outputs": [
    {
     "data": {
      "text/plain": [
       "98"
      ]
     },
     "execution_count": 6,
     "metadata": {},
     "output_type": "execute_result"
    }
   ],
   "source": [
    "len(tk.encode(PROMPT_FMT.format(context=\"\", question=\"\")))"
   ]
  },
  {
   "cell_type": "code",
   "execution_count": 78,
   "metadata": {},
   "outputs": [],
   "source": [
    "wikimqa_data = pd.read_json(DATA_DIR / '2wikimqa_e.jsonl', lines=True)"
   ]
  },
  {
   "cell_type": "code",
   "execution_count": 19,
   "metadata": {},
   "outputs": [
    {
     "data": {
      "text/plain": [
       "Index(['input', 'context', 'answers', 'length', 'dataset', 'language',\n",
       "       'all_classes', '_id'],\n",
       "      dtype='object')"
      ]
     },
     "execution_count": 19,
     "metadata": {},
     "output_type": "execute_result"
    }
   ],
   "source": [
    "wikimqa_data.iloc[0].keys()"
   ]
  },
  {
   "cell_type": "code",
   "execution_count": 20,
   "metadata": {},
   "outputs": [
    {
     "data": {
      "text/plain": [
       "300"
      ]
     },
     "execution_count": 20,
     "metadata": {},
     "output_type": "execute_result"
    }
   ],
   "source": [
    "len(wikimqa_data)"
   ]
  },
  {
   "cell_type": "code",
   "execution_count": 21,
   "metadata": {},
   "outputs": [
    {
     "data": {
      "text/plain": [
       "count      300.000000\n",
       "mean      6146.540000\n",
       "std       3178.540665\n",
       "min        987.000000\n",
       "25%       3514.500000\n",
       "50%       5244.000000\n",
       "75%       9061.000000\n",
       "max      12334.000000\n",
       "Name: length, dtype: float64"
      ]
     },
     "execution_count": 21,
     "metadata": {},
     "output_type": "execute_result"
    }
   ],
   "source": [
    "wikimqa_data.length.describe()"
   ]
  },
  {
   "cell_type": "code",
   "execution_count": 22,
   "metadata": {},
   "outputs": [],
   "source": [
    "wq0 = wikimqa_data.iloc[0]"
   ]
  },
  {
   "cell_type": "code",
   "execution_count": 28,
   "metadata": {},
   "outputs": [
    {
     "name": "stdout",
     "output_type": "stream",
     "text": [
      "input length: 23 context length: 4751 total: 4774\n",
      "reported length:  2521\n"
     ]
    }
   ],
   "source": [
    "wq0_len = wq0.length\n",
    "input_len = len(tk.encode(wq0.input))\n",
    "context_len = len(tk.encode(wq0.context))\n",
    "\n",
    "print(f\"input length: {input_len} context length: {context_len} total: {input_len + context_len}\")\n",
    "print(\"reported length: \", wq0_len)"
   ]
  },
  {
   "cell_type": "markdown",
   "metadata": {},
   "source": [
    "## Summary\n",
    "\n",
    "* we are only concerned with the dataset items with questions (`qa`) files,\n",
    "  in english (`en` if available). Fortunately all `_e` files are in English.\n",
    "\n",
    "* to create a dataset with defined prompt sizes we need to count the tokens in \n",
    "  the `input` question and `context` and with the prompt length (`103`) but\n",
    "  we want to be flexible\n",
    "\n",
    "* then we partition the dataset by length"
   ]
  },
  {
   "cell_type": "code",
   "execution_count": 86,
   "metadata": {},
   "outputs": [],
   "source": [
    "files = glob.glob(str(DATA_DIR / '*qa_e.jsonl'))\n",
    "files.extend(glob.glob(str(DATA_DIR / '*qa.jsonl')))"
   ]
  },
  {
   "cell_type": "code",
   "execution_count": 87,
   "metadata": {},
   "outputs": [
    {
     "data": {
      "text/plain": [
       "7"
      ]
     },
     "execution_count": 87,
     "metadata": {},
     "output_type": "execute_result"
    }
   ],
   "source": [
    "len(files)"
   ]
  },
  {
   "cell_type": "code",
   "execution_count": 88,
   "metadata": {},
   "outputs": [],
   "source": [
    "# The files in LongBench contain nonstandard or irregular Unicode.\n",
    "# For compatibility and safety we normalize them.\n",
    "\n",
    "def normalize(text, form='NFC'):\n",
    "    return unicodedata.normalize(form, text)\n",
    "\n",
    "def process_item(item, prompt_fmt=PROMPT_FMT):\n",
    "    question = normalize(item.input)\n",
    "    context = normalize(item.context)\n",
    "    prompt = prompt_fmt.format(question=question, context=context)\n",
    "    prompt_len = len(tk.encode(prompt))\n",
    "    return {\n",
    "        \"question\": question,\n",
    "        \"context\": context,\n",
    "        \"prompt\": prompt,\n",
    "        \"prompt_len\": prompt_len,\n",
    "        \"question_len\": len(tk.encode(question)),\n",
    "        \"context_len\": len(tk.encode(context)),\n",
    "    }"
   ]
  },
  {
   "cell_type": "code",
   "execution_count": 89,
   "metadata": {},
   "outputs": [],
   "source": [
    "combined_rows = []\n",
    "for file in files:\n",
    "    df = pd.read_json(file, lines=True)\n",
    "    combined_rows.extend(df.apply(process_item, axis=1))"
   ]
  },
  {
   "cell_type": "code",
   "execution_count": 91,
   "metadata": {},
   "outputs": [
    {
     "data": {
      "text/plain": [
       "{'question': 'Which city is under Jining, Kaiyuan, Liaoning or Yanzhou District?',\n",
       " 'context': 'Passage 1:\\nKaiyuan, Liaoning\\nKaiyuan (simplified Chinese: 开原; traditional Chinese: 開原; pinyin: Kāiyuán; lit. \\'Open Plains\\') is a county-level city in the northeast of Liaoning, People\\'s Republic of China, bordering Jilin for a small section to the north. It is under the administration of Tieling City, the centre of which lies 33 kilometres (21 mi) to the southwest.\\n\\nAdministrative divisions\\nThere are 3 subdistricts, 9 towns, and 9 townships under the city\\'s administration.Subdistricts:\\n\\nXincheng Subdistrict (新城街道), Laocheng Subdistrict (老城街道), Xingkai Subdistrict (兴开街道)Towns:\\n\\nBabao (八宝镇), Qingyunbao (庆云堡镇), Kaoshan (靠山镇), Yemin (业民镇), Jingouzi (金沟子镇), Zhonggu (中固镇), Bakeshu (八棵树镇), Lianhua (莲花镇), Weiyuanbao (威远堡镇)Townships:\\n\\nChengdong Township (城东乡), Sanjiazi Township (三家子乡), Songshanbao Township (松山堡乡), Majiazhai Township (马家寨乡), Lijiatai Township (李家台乡), Shangbadi Manchu Ethnic Township (上肥地满族乡), Xiabadi Manchu Ethnic Township (下肥地满族乡), Huangqizhai Manchu Ethnic Township (黄旗寨满族乡), Linfeng Manchu Ethnic Township (林丰满族乡)\\n\\nGeography and climate\\nKaiyuan is situated in northeastern Liaoning in the southeastern part of Tieling City on the eastern bank of the middle reaches of the Liao River. It borders Dongfeng County and Qingyuan Manchu Autonomous County to the east, Tieling County to the south, Faku and Changtu counties to the west, and Lishu County (Jilin) to the north. Its administrative area reaches a maximal north–south extent of 86 km (53 mi) and east–west width of 89.4 km (55.6 mi). In the east, the land begins to transition to the foothills of the Changbai Mountains, while the west is marked by the Songliao Plain.\\nKaiyuan has a monsoon-influenced humid continental climate (Köppen Dwa), characterised by hot, humid summers and long, cold and windy, but dry winters. The four seasons here are distinctive. A majority of the annual rainfall of 673 mm (26.5 in) occurs in July and August alone. The monthly 24-hour average temperature ranges from −13.4 °C (7.9 °F) in January to 23.9 °C (75.0 °F) in July, and the annual mean is 7.3 °C (45.1 °F). \\nKaiyun was directly hit by tornadoes in 2019 and 2023.\\n\\nNotable people\\nSheng Shicai (1897–1970), a warlord who ruled Xinjiang from 1933 to 1944.\\nXiao Jie (1957), Chinese politician\\nXiaoshenyang (1981), Chinese actor\\nPassage 2:\\nQinghe District, Tieling\\nQinghe District (simplified Chinese: 清河区; traditional Chinese: 清河區; pinyin: Qīnghé Qū), previously named as Qinghe Township before the 1980s, is a district of Tieling City.\\n\\nSightseeings\\nQinghe Dam\\n\\nAdministrative Divisions\\nThere are two subdistricts, two town, and one ethnic township within the district.\\nSubdistricts:\\n\\nXiangyang Subdistrict (向阳街道), Hongqi Subdistrict (红旗街道)Towns:\\n\\nZhangxiang (张相镇), Yangmulinzi (杨木林子镇)The only township is Niejia Manchu Ethnic Township (聂家满族乡)\\n\\nEducation\\nThere are two elementary schools, one junior high school and one senior high school in the main area.\\nNo.1 Elementary School of Qinghe District\\nNo.2 Elementary School of Qinghe District\\nQinghe Experimental High School\\nQinghe High School\\nPassage 3:\\nPan Xiaoting\\nPan Xiaoting (simplified Chinese: 潘晓婷; traditional Chinese: 潘曉婷; pinyin: Pān Xiǎotíng; born 25 February 1982) is a Chinese professional pool player.\\n\\nProfessional biography\\nShe is the first Chinese woman to play full-time on the WPBA Tour, and has been nicknamed the \"Queen of Nine-Ball\".\\n\\nWPBA Rookie of the Year in 2006\\nPan was named WPBA Rookie of the Year in 2006 and finished the season ranked #13. Pan won her first WPBA tournament at the 2007 Great Lakes Classic. Later she won the 2007 WPA World Nine-ball Championship held in Taoyuan City, Taiwan. Pan is a friendly rival of fellow Asian WPBA player Kim Ga-young; the two met in the finals of the 2007 Carolina Women\\'s Billiard Classic, with Kim prevailing 7 to 6 in the WPBA\\'s first all-Asian championship match. Kim and Pan finished the 2007 WPBA season ranked #2 and #3, respectively, behind perennially top-ranked Allison Fisher. Pan is also a good friend of Chinese snooker player Ding Junhui. In 2008, Pan won the BCA GenerationPool.com title on the WPBA tour, and in 2010 added a WPBA major to her resume at the Tour Championships. She went undefeated in Niagara Falls that year defeating Kim Ga-young of South Korea in the semi-finals 7–6, and Karen Corr of Northern Ireland 7–4 in the final.\\n\\nMatches against Ronnie O\\'Sullivan\\nIn December 2013, Pan participated in an exhibition match (9-ball and snooker) against snooker ace Ronnie O\\'Sullivan in Yanzhou, which she won 7–6 in 9-ball and lost 2–1 in snooker 6-red.In November 2018, a second exhibition match between Pan and O\\'Sullivan took place in China, as well. The professional 9-ball champion Pan won with 7-6\\n\\nTitles\\n2010 Asian Games Nine-ball Singles\\n2008 All Japan Championship 9-Ball\\n2007 WPA Women\\'s World Nine-ball Championship\\n2005 All Japan Championship 9-Ball\\n2002 All Japan Championship 9-Ball\\nPassage 4:\\nYanzhou Village\\nYanzhou Village (Chinese: 燕州城; pinyin: Yānzhōuchéng) is a small settlement in Dengta Prefecture of Liaoyang Prefecture in Liaoning Province in China. The village is the site of the ancient Goguryeo city of Baegam (Hangul :백암성, Hanja :白巖城) in Korea or Baiyan City (Chinese: 白岩城) in Chinese. The ancient city was the scene a major battle between the Tang dynasty Chinese emperor Taizong and the Goguryeo in 645 AD.\\n\\nHistory\\nThe city dates to 403 AD and was built by the Goguryeo people who occupied much of the Liaodong Peninsula, modern Jilin province, Northern Korean Peninsula and part of the Primorsky Krai in modern Russia. Yanzhou was a major city at the frontier between the Goguryeo and Tang dynasty China.\\nIn 642 AD, the Goguryeo had a war with the neighbouring land of Silla on the Korean Peninsula. The Silla appealed to the Tang Emperor for assistance and in 645, the Emperor Taizong attacked the Goguryeo. The Tang first captured nearby Liaodong City. Then in June, they attacked at Yanzhou led by Tang Jun and after fierce fighting and some notable heroics by the Emperor and his generals, won.\\n\\nLocation\\nThe city was built on a ridge on the northern side of the Taizi River.  (Chinese: 太子河; pinyin: Tàizǐhé), approximately 20 km east of Liaoyang and 50 km south of Shenyang (Chinese: 沈阳; pinyin: Shěnyáng).\\n\\nConstruction\\nAs with other Goguryeo forts, Yanzhou village was built on a hill adjacent to a river, with the river forming a natural barrier.  Cliffs form the southern side of the city and a high defensive wall formed an arch around the west, north and east sides.  The land slopes such that the eastern side of the city is significantly higher than the west. The site is about 480 metres long and 440 metres wide. The city walls, which are still visible today, cover some 1840 metres in length. The walls were 2 to 3 metres thick and between 5 and 8 metres high with towers at regular intervals along its length, and is comparable to the Great Wall of China in its dimensions. At the top of the ridge are the remains of a square tower with a wall enclosed area to its east. The gate to the city was to the west, near the Taizi River. The construction is of rough-cut stone built dry without mortar.\\n\\nStatus\\nThe city walls in Yanzhou are a protected site of Liaoning province.  Despite its protected status, some of the western sections of the city walls have been dismantled by the adjacent villagers and stones taken from the wall can be seen in various homes and fences throughout the village.  By comparison, the city walls on the northern and eastern sections appear to be in good condition.\\n\\nAccessibility\\nAs of 2014 the site was not developed to encourage tourism and there was no tourist infrastructure present to facilitate tourism related activities within the city walls. Access to the site was neither monitored nor actively controlled.\\nThe city can be easily reached by automobile, as paved roads connect it to both Liaoyang and Shenyang.\\nPassage 5:\\nYanzhou District\\nYanzhou (postal: Yenchow; simplified Chinese: 兖州; traditional Chinese: 兗州; pinyin: Yǎnzhōu) is a district in the prefecture-level city of Jining, in the southwest of Shandong province, People\\'s Republic of China. It was also the name of one of the Nine Provinces in ancient China, where Yu combated floods by water control.\\n\\nAdministration\\nYanzhou District administers six subdistricts and six towns:\\n\\nSubdistricts (街道)\\nTowns (镇)\\nHistory\\nYanzhou was the first place to install the \"school-fields\" xuetian in 1022, during the Song dynasty.In early European sources, based on accounts by French missionaries, the name of Yanzhou (Fu) is transcribed in the contemporary French manner, as Yen-tcheou-fou; however, when reading 18th- and 19th-century books in French or English, care should be taken not to confuse Yanzhou in Shandong with the identically transcribed Yanzhou in Zhejiang.\\n\\nGeology\\nThe land structure of the Yinzhou area belongs to the Luxi fault block uplift (level III) and the Zhangzhou fault (Grade IV) unit. The eastern part of the boundary is the Yishan fault, the west is the Sunshidian fault, and the north is the Wensi fault. It is the Fushan fault. Yanzhou is part of it. The basement is the metamorphic rock series of the Mount Tai Group. The Paleozoic, Mesozoic and Cenozoic strata are developed above the basement. Among them, rich industrial coal seams are formed in the Late Paleozoic strata, which is an important base for Yanzhou becoming national coal resources. The tectonic movement in the territory has shaped various structural topography, which are roughly two types of fault structure and fold structure. The strata of all walks of life are developed from the old to the new for the Early Paleozoic strata, the Paleozoic strata, the Mesozoic strata, and the Neogene stratigraphic strata. In the early Paleozoic, the horizon was in a state of slow decline, with large-scale transgression, and the deposition of thick shallow sand shale and carbonate rock formations. The Ordovician rocks in the Paleozoic are mainly light gray and gray thick layered limestone, crystalline limestone and leopard skin limestone; the Carboniferous rocks are mainly gray-white siltstone, clay rock, shale and thin layer limestone. Several layers of coal; the two rocks are mainly grayish white, dark gray sandstone and variegated mudstone and brown shale, rich in plant fossils. The Mesozoic Jurassic rocks are mainly brown sandstone, conglomerate, variegated mudstone and glutenite. The Cenozoic is made up of Tertiary and Quaternary strata. The Tertiary is sandstone, sticky sandstone, and mudstone; the Quaternary strata are loose rock formations composed of Wenyu alluvial deposits. The west is the Wenhe alluvial fan, the east is the Weihe alluvial fan, and the two overlapping alluvial fans are located in the area of Qianqian-Da\\'an-Tianqi Temple.\\nYanzhou District is located in the sloping plain of the southwestern part of the Mount Tai in the Luzhong Mountains. The west is flooded by the flood waters, and the flood alluvial landforms are obvious; the eastern waters are discharged to the southwest, and the terrain is inclined from the northeast to the southwest; the central Guangfu River and the Yangjiahe River are parallel and the terrain is low. The ground elevation is 60~38 meters, the height difference is 22 meters and the average elevation is 49 meters, and the average slope is 1/1500. The northeast is affected by the structure and is a shallow buried area of the Tertiary, with a large slope on the ground. The plain area is 64,670 hectares, accounting for 99.7% of the total area; it is divided into three types: micro-sloping ground, depression and slow-moving. The area is 45,601 hectares, accounting for 70.35% of the total area; the area is 12276.9 hectares, accounting for 18.94% of the total area; the area is 6792.2 hectares, accounting for 10.48% of the total area.\\nThe hills in the territory belong to the bedrock of the Mount Tai hidden under the Quaternary cover. There is a hill 15 kilometers west of the city, named Ziyang Mountain. It is the only hill in Yanzhou. It is a bare hill of the Ordovician limestone. It is a low hill type. It is divided into two peaks, east peak is 75 meters above sea level, and west peak is 72.5 meters above sea level. The mountain is spread from east to west, 1.5 kilometers long and one kilometer wide, covering an area of 1.5 square kilometers. The rock is limestone, and the Qing Dynasty has been sporadic mining, although it is forbidden. In the later period of the \"Cultural Revolution\", the trees on the mountain were cut down, and the mountain quarry was cut off. The East Peak had become a deep valley, and the west peak still existed.\\n\\nClimate\\nYanzhou has a monsoon-influenced, four-season humid continental climate (Köppen Dwa). Winters are cold and dry while summers are hot and humid. Monthly daily average temperatures range from −1.0 °C (30.2 °F) in January to 26.8 °C (80.2 °F), while the annual mean temperature is 13.79 °C (56.8 °F). More than 70% of the annual precipitation occurs from June to September, with barely any occurring in the winter months. The city receives 2,461 hours of bright sunshine annually.\\n\\nEconomy\\n2012 GDP reached 50.62 billion yuan, up 13.1 percent; local fiscal revenue 3.008 billion yuan, an increase of 22.65%; major economic indicators higher than the provincial average, income growth higher than the GDP growth rate of urban and rural residents. First three quarters of 2012, the GDP of 41.35 billion yuan, an increase of 11.9%; 1–10 months, local fiscal revenue 3.13 billion yuan, up 14.4 percent; 17.94 billion yuan in fixed assets investment, an increase of 22.9%.Yanzhou Coal Mining Company is headquartered in Yanzhou.\\nThe economic aggregate has reached a new level. According to preliminary calculations, in 2017, the region\\'s Gross Regional Product (GDP) exceeded 70 billion yuan, reaching 72.312 billion yuan, a year-on-year increase of 6.7% at comparable prices. Among them, the added value of the primary industry was 4.659 billion yuan, up 2.8% year-on-year; the added value of the secondary industry was 39.699 billion yuan, up 6.1% year-on-year; the added value of the tertiary industry was 27.954 billion yuan, up 8.4% year-on-year. According to the industry, the added value of agriculture, forestry, animal husbandry and fishery was 4.794 billion yuan, up 3.2%; the industrial added value was 35.909 billion yuan, up 6.8%; the construction industry added value was 3.808 billion yuan, down 0.4%; the wholesale and retail industry added value was 7.805 billion yuan. , an increase of 1.9%; transportation, warehousing and postal industry added value of 2.267 billion yuan, an increase of 8.6%; accommodation and catering industry added value of 891 million yuan, an increase of 2.6%; financial industry added value of 2.094 billion yuan, an increase of 12%; real estate industry The added value was 1.197 billion yuan, an increase of 4.9%; the added value of other service industries was 13.547 billion yuan, an increase of 12.6%. The three industrial structure ratios were adjusted from 7.3:54.5:38.2 in 2016 to 6.4:54.9:38.7 in 2017. The value added of the service industry accounted for 38.7%, an increase of 0.5 percentage points over the same period of the previous year. The per capita GDP of the region reached 113,217 yuan (converted to an annual average exchange rate of 16,769 US dollars), which was 6.2% higher at comparable prices.\\n\\nTransportation\\nBeijing–Shanghai Railway\\nYanzhou–Shijiusuo Railway\\nXinxiang–Yanzhou Railway\\nRizhao–Lankao high-speed railway: Jining East railway station (济宁东站)\\n\\nHistoric Sites\\nPassage 6:\\nHeze\\nHeze, formerly known as Caozhou, is the westernmost prefecture-level city in Shandong province, China, it borders Jining to the east and the provinces of Henan and Anhui to the west and south respectively.\\n\\nHistory\\nCaozhou was at the center of the Nian Rebellion during the 1850s and 60s.\\nIn August 1949, Heze was detached from Shandong and given to the experimental province of Pingyuan. It returned to Shandong just over three years later.\\nIn April 1953, Heze and Jining gained counties from the former prefecture of Huxi after its abolishment.\\n\\nCity Flower\\nMudan is the city flower of Heze. The earliest documentary of Mudan is in Classic of Poetry (诗经), which is almost 3,000 years away from now. Mudan is also called the King of flower from Bencao Gangmu(本草纲目). It is a symbol of honor, peace, wealth, love, aristocracy, and feminine beauty. There are 9 types of Mudan based on the colors: red, white, purple, yellow, blue, green, black, pink, and multi-colored.\\n\\nClimate\\nHeze has a monsoon-influenced climate that lies between the humid subtropical and humid continental zones (Köppen Cwa/Dwa), with four well-defined seasons. The city is warm and nearly rainless in spring, hot and humid in summer, crisp in autumn and cold and dry in winter. The mean annual temperature is 14.22 °C (57.6 °F), with the monthly 24-hour average temperature ranging from −0.5 °C (31.1 °F) in January to 27.1 °C (80.8 °F) in July. Nearly 70% of the annual precipitation occurs from June to September. With monthly percent possible sunshine ranging from 48% in July to 60% in May, the city receives 2,411 hours of bright sunshine annually.\\n\\nAdministration\\nThe prefecture-level city of Heze administers nine county-level divisions. The municipal executive, legislature and judiciary are in Mudan District (牡丹区), together with CPC and Public Security bureaux.\\nThere are two districts and seven counties:\\n\\nMudan District (牡丹区)\\nDingtao District (定陶区)\\nCao County (曹县)\\nChengwu County (成武县) - originally in Huxi\\nShan County (单县) - originally in Huxi\\nJuye County (巨野县) - originally in Huxi\\nYuncheng County (郓城县)\\nJuancheng County (鄄城县)\\nDongming County (东明县)These are further divided into 158 township-level divisions.\\n\\nDemographics\\nAccording to the 2010 population census, Heze was home to 8,287,693 people, of whom 1,346,717 live in the built-up area around the seat of government in Mudan District.\\n\\nCulture\\nPlaces of Interests\\nCaozhou Mudan Garden: It is the largest Mudan Garden in Heze with the most varieties.\\nOne Hundred Lion Square: It is famous for its column carved 100 different posture stone lions. It is the symbol of best wishes and longevities. The archway is 14 meters high and 9 meters wide. The 100 lions with different shapes represent superb architectural skills and immortal artistic value, which fully embodies the wisdom and strength of the ancient people.\\nShui Hu Hero City: It is famous for the teaching and communication of martial arts and ancient buildings. It is also the Chinese ancient residence museum, CCTV recommended tour routes, and the source of Water Margins.\\n\\nFoods\\nShanxian Lamb Soup: The soup is founded in 1807. The taste is fresh but not mutton, and fragrant but not greasy. After more than 200 years of development and innovation of soup, it can be carried forward and accepted in many years. It is not only refreshing, but also functional in medicinal meal.\\nPeony Cake: During the Flower Festival is the season when peonies are in full bloom, Wu Zetian led a maid to enjoy the flowers in the garden and ordered the maid to pluck a large number of flowers of various colors. After return to the palace, according to her design, she mashed them with rice, and steamed them to make a cake, which is called \"Hundred Flower Cake\". And she used this dessert as a gift to the officials.\\nPijia Roast Chicken: The sauce is in color red, and you can smell the rich roast chicken scent just a few feet away from the pot. Its outstanding characteristics are fresh, fragrant, and tender with consistent taste inside and out.\\nCaozhou Sesame Cake: Its shape is round as moon, tender inside with a crispy crust. It has ingredients of wheat essence powder, sesame oil, salt, pepper, fennel powder and other ingredients made of oil flesh.\\n\\nTransportation\\nHighway: China National Highway 220; China National Highway 105; China National Highway 106; China National Highway 240; China National Highway 327\\nHeze Mudan Airport opened on April 2, 2021.\\nConventional rail services call at Heze railway station, high-speed services call at Heze East railway station.\\n\\nFamous Figures\\nAncient times: Fuxi, Yao, Shun, Song Jiang, Wu Yong, Cao Zhi\\nCurrent: Peng Liyuan, Zhang Jizhong, Fan Shaohuang\\n\\nEconomy\\nHeze is the largest center in China for the cultivation of the \"national flower\" peony, after which the Mudan District was named. Over 30% of its GDP comes from the sale of peony.\\n\\nSister Cities\\nMobile, Alabama\\nPassage 7:\\nShizhong District, Jining\\nShizhong District is a former district of the city of Jining in Shandong province, China. In November 2013 it was merged into Rencheng District.\\nPassage 8:\\nZhongshan High School of Northeast\\nZhongshan High School of Northeast (东北中山中学) (Hereinafter abbreviated as nezs) is a secondary school located in Heping District, Shenyang, Liaoning, China. It was the first national high school in Republic of China. Its first name is National Northeast Zhongshan High School (國立東北中山中學). Nezs is the only one middle school join in the December 9th Movement.\\nIt was established in Peiking in 1934. The first headmaster is Li Xi\\'en, who is Jilin University\\'s headmaster. In the autumn of 1936, nezs moved to Banqiao, Nanjing because of the Second Sino-Japanese War. After the war\\'s end, in 1946, nezs moved to Shenyang, Liaoning, and then changed name to Shenyang No.39 middle school. In 1996, nezs rehabilitated the name Zhongshan High School of Northeast. In 1998, nezs become the Shenyang important middle School (沈阳市重点中学). In 1999, it became the Liaoning important school (辽宁省重点中学).\\nPassage 9:\\nYan Prefecture (Shandong)\\nYanzhou or Yan Prefecture was a zhou (prefecture) in imperial China centering on modern Yanzhou District, Jining, Shandong, China. It existed (intermittently) until 1385, when the Ming dynasty created Yanzhou Prefecture.\\nYan Prefecture was named after Yan Province, one of the Nine Provinces of ancient China. The modern district of Yanzhou District retains its name.\\n\\nGeography\\nThe administrative region of Yan Prefecture in the Tang dynasty is in modern central Shandong. It probably includes parts of modern: \\n\\nUnder the administration of Jining:\\nJining\\nQufu\\nZoucheng\\nWenshang County\\nSishui County\\nUnder the administration of Tai\\'an:\\nTai\\'an\\nNingyang County\\nUnder the administration of Laiwu:\\nLaiwu\\nPassage 10:\\nLiaoning Province Shiyan High School\\nLiaoning Province Shiyan High School (Chinese: 辽宁省实验中学; pinyin: Liáoníngshěng Shíyàn Zhōngxué), originally called Northeast Shiyan School (Chinese: 东北实验学校; pinyin: Dōngběi Shíyàn Xuéxiào), is a public high school located in Huanggu District, in the city of Shenyang, Liaoning, China. It is the number one ranked high school in Shenyang, ranking by high school entrance examination grades.\\n\\nHistory\\nLiaoning Province Shiyan High School was founded on May 4, 1949. It is the only Secondary School that is operated under direct supervision of the Department of Education in Liaoning Province. The first appointed headmaster was the Vice-governor and notable educationist Mr. Che Xiangchen.\\nIn July 2007, the School was selected as an Olympic Model Schools in Liaoning Province.\\n\\nNotes\\nExternal links\\nOfficial website of Liaoning Experimental High School',\n",
       " 'prompt': '<s>[INST] <<SYS>>\\nYou are an assistant for question-answering tasks. Use the following pieces of retrieved context in the section demarcated by \"```\" to answer the question. If you don\\'t know the answer just say that you don\\'t know. Use three sentences maximum and keep the answer concise.\\n<</SYS>>\\n\\n```\\nPassage 1:\\nKaiyuan, Liaoning\\nKaiyuan (simplified Chinese: 开原; traditional Chinese: 開原; pinyin: Kāiyuán; lit. \\'Open Plains\\') is a county-level city in the northeast of Liaoning, People\\'s Republic of China, bordering Jilin for a small section to the north. It is under the administration of Tieling City, the centre of which lies 33 kilometres (21 mi) to the southwest.\\n\\nAdministrative divisions\\nThere are 3 subdistricts, 9 towns, and 9 townships under the city\\'s administration.Subdistricts:\\n\\nXincheng Subdistrict (新城街道), Laocheng Subdistrict (老城街道), Xingkai Subdistrict (兴开街道)Towns:\\n\\nBabao (八宝镇), Qingyunbao (庆云堡镇), Kaoshan (靠山镇), Yemin (业民镇), Jingouzi (金沟子镇), Zhonggu (中固镇), Bakeshu (八棵树镇), Lianhua (莲花镇), Weiyuanbao (威远堡镇)Townships:\\n\\nChengdong Township (城东乡), Sanjiazi Township (三家子乡), Songshanbao Township (松山堡乡), Majiazhai Township (马家寨乡), Lijiatai Township (李家台乡), Shangbadi Manchu Ethnic Township (上肥地满族乡), Xiabadi Manchu Ethnic Township (下肥地满族乡), Huangqizhai Manchu Ethnic Township (黄旗寨满族乡), Linfeng Manchu Ethnic Township (林丰满族乡)\\n\\nGeography and climate\\nKaiyuan is situated in northeastern Liaoning in the southeastern part of Tieling City on the eastern bank of the middle reaches of the Liao River. It borders Dongfeng County and Qingyuan Manchu Autonomous County to the east, Tieling County to the south, Faku and Changtu counties to the west, and Lishu County (Jilin) to the north. Its administrative area reaches a maximal north–south extent of 86 km (53 mi) and east–west width of 89.4 km (55.6 mi). In the east, the land begins to transition to the foothills of the Changbai Mountains, while the west is marked by the Songliao Plain.\\nKaiyuan has a monsoon-influenced humid continental climate (Köppen Dwa), characterised by hot, humid summers and long, cold and windy, but dry winters. The four seasons here are distinctive. A majority of the annual rainfall of 673 mm (26.5 in) occurs in July and August alone. The monthly 24-hour average temperature ranges from −13.4 °C (7.9 °F) in January to 23.9 °C (75.0 °F) in July, and the annual mean is 7.3 °C (45.1 °F). \\nKaiyun was directly hit by tornadoes in 2019 and 2023.\\n\\nNotable people\\nSheng Shicai (1897–1970), a warlord who ruled Xinjiang from 1933 to 1944.\\nXiao Jie (1957), Chinese politician\\nXiaoshenyang (1981), Chinese actor\\nPassage 2:\\nQinghe District, Tieling\\nQinghe District (simplified Chinese: 清河区; traditional Chinese: 清河區; pinyin: Qīnghé Qū), previously named as Qinghe Township before the 1980s, is a district of Tieling City.\\n\\nSightseeings\\nQinghe Dam\\n\\nAdministrative Divisions\\nThere are two subdistricts, two town, and one ethnic township within the district.\\nSubdistricts:\\n\\nXiangyang Subdistrict (向阳街道), Hongqi Subdistrict (红旗街道)Towns:\\n\\nZhangxiang (张相镇), Yangmulinzi (杨木林子镇)The only township is Niejia Manchu Ethnic Township (聂家满族乡)\\n\\nEducation\\nThere are two elementary schools, one junior high school and one senior high school in the main area.\\nNo.1 Elementary School of Qinghe District\\nNo.2 Elementary School of Qinghe District\\nQinghe Experimental High School\\nQinghe High School\\nPassage 3:\\nPan Xiaoting\\nPan Xiaoting (simplified Chinese: 潘晓婷; traditional Chinese: 潘曉婷; pinyin: Pān Xiǎotíng; born 25 February 1982) is a Chinese professional pool player.\\n\\nProfessional biography\\nShe is the first Chinese woman to play full-time on the WPBA Tour, and has been nicknamed the \"Queen of Nine-Ball\".\\n\\nWPBA Rookie of the Year in 2006\\nPan was named WPBA Rookie of the Year in 2006 and finished the season ranked #13. Pan won her first WPBA tournament at the 2007 Great Lakes Classic. Later she won the 2007 WPA World Nine-ball Championship held in Taoyuan City, Taiwan. Pan is a friendly rival of fellow Asian WPBA player Kim Ga-young; the two met in the finals of the 2007 Carolina Women\\'s Billiard Classic, with Kim prevailing 7 to 6 in the WPBA\\'s first all-Asian championship match. Kim and Pan finished the 2007 WPBA season ranked #2 and #3, respectively, behind perennially top-ranked Allison Fisher. Pan is also a good friend of Chinese snooker player Ding Junhui. In 2008, Pan won the BCA GenerationPool.com title on the WPBA tour, and in 2010 added a WPBA major to her resume at the Tour Championships. She went undefeated in Niagara Falls that year defeating Kim Ga-young of South Korea in the semi-finals 7–6, and Karen Corr of Northern Ireland 7–4 in the final.\\n\\nMatches against Ronnie O\\'Sullivan\\nIn December 2013, Pan participated in an exhibition match (9-ball and snooker) against snooker ace Ronnie O\\'Sullivan in Yanzhou, which she won 7–6 in 9-ball and lost 2–1 in snooker 6-red.In November 2018, a second exhibition match between Pan and O\\'Sullivan took place in China, as well. The professional 9-ball champion Pan won with 7-6\\n\\nTitles\\n2010 Asian Games Nine-ball Singles\\n2008 All Japan Championship 9-Ball\\n2007 WPA Women\\'s World Nine-ball Championship\\n2005 All Japan Championship 9-Ball\\n2002 All Japan Championship 9-Ball\\nPassage 4:\\nYanzhou Village\\nYanzhou Village (Chinese: 燕州城; pinyin: Yānzhōuchéng) is a small settlement in Dengta Prefecture of Liaoyang Prefecture in Liaoning Province in China. The village is the site of the ancient Goguryeo city of Baegam (Hangul :백암성, Hanja :白巖城) in Korea or Baiyan City (Chinese: 白岩城) in Chinese. The ancient city was the scene a major battle between the Tang dynasty Chinese emperor Taizong and the Goguryeo in 645 AD.\\n\\nHistory\\nThe city dates to 403 AD and was built by the Goguryeo people who occupied much of the Liaodong Peninsula, modern Jilin province, Northern Korean Peninsula and part of the Primorsky Krai in modern Russia. Yanzhou was a major city at the frontier between the Goguryeo and Tang dynasty China.\\nIn 642 AD, the Goguryeo had a war with the neighbouring land of Silla on the Korean Peninsula. The Silla appealed to the Tang Emperor for assistance and in 645, the Emperor Taizong attacked the Goguryeo. The Tang first captured nearby Liaodong City. Then in June, they attacked at Yanzhou led by Tang Jun and after fierce fighting and some notable heroics by the Emperor and his generals, won.\\n\\nLocation\\nThe city was built on a ridge on the northern side of the Taizi River.  (Chinese: 太子河; pinyin: Tàizǐhé), approximately 20 km east of Liaoyang and 50 km south of Shenyang (Chinese: 沈阳; pinyin: Shěnyáng).\\n\\nConstruction\\nAs with other Goguryeo forts, Yanzhou village was built on a hill adjacent to a river, with the river forming a natural barrier.  Cliffs form the southern side of the city and a high defensive wall formed an arch around the west, north and east sides.  The land slopes such that the eastern side of the city is significantly higher than the west. The site is about 480 metres long and 440 metres wide. The city walls, which are still visible today, cover some 1840 metres in length. The walls were 2 to 3 metres thick and between 5 and 8 metres high with towers at regular intervals along its length, and is comparable to the Great Wall of China in its dimensions. At the top of the ridge are the remains of a square tower with a wall enclosed area to its east. The gate to the city was to the west, near the Taizi River. The construction is of rough-cut stone built dry without mortar.\\n\\nStatus\\nThe city walls in Yanzhou are a protected site of Liaoning province.  Despite its protected status, some of the western sections of the city walls have been dismantled by the adjacent villagers and stones taken from the wall can be seen in various homes and fences throughout the village.  By comparison, the city walls on the northern and eastern sections appear to be in good condition.\\n\\nAccessibility\\nAs of 2014 the site was not developed to encourage tourism and there was no tourist infrastructure present to facilitate tourism related activities within the city walls. Access to the site was neither monitored nor actively controlled.\\nThe city can be easily reached by automobile, as paved roads connect it to both Liaoyang and Shenyang.\\nPassage 5:\\nYanzhou District\\nYanzhou (postal: Yenchow; simplified Chinese: 兖州; traditional Chinese: 兗州; pinyin: Yǎnzhōu) is a district in the prefecture-level city of Jining, in the southwest of Shandong province, People\\'s Republic of China. It was also the name of one of the Nine Provinces in ancient China, where Yu combated floods by water control.\\n\\nAdministration\\nYanzhou District administers six subdistricts and six towns:\\n\\nSubdistricts (街道)\\nTowns (镇)\\nHistory\\nYanzhou was the first place to install the \"school-fields\" xuetian in 1022, during the Song dynasty.In early European sources, based on accounts by French missionaries, the name of Yanzhou (Fu) is transcribed in the contemporary French manner, as Yen-tcheou-fou; however, when reading 18th- and 19th-century books in French or English, care should be taken not to confuse Yanzhou in Shandong with the identically transcribed Yanzhou in Zhejiang.\\n\\nGeology\\nThe land structure of the Yinzhou area belongs to the Luxi fault block uplift (level III) and the Zhangzhou fault (Grade IV) unit. The eastern part of the boundary is the Yishan fault, the west is the Sunshidian fault, and the north is the Wensi fault. It is the Fushan fault. Yanzhou is part of it. The basement is the metamorphic rock series of the Mount Tai Group. The Paleozoic, Mesozoic and Cenozoic strata are developed above the basement. Among them, rich industrial coal seams are formed in the Late Paleozoic strata, which is an important base for Yanzhou becoming national coal resources. The tectonic movement in the territory has shaped various structural topography, which are roughly two types of fault structure and fold structure. The strata of all walks of life are developed from the old to the new for the Early Paleozoic strata, the Paleozoic strata, the Mesozoic strata, and the Neogene stratigraphic strata. In the early Paleozoic, the horizon was in a state of slow decline, with large-scale transgression, and the deposition of thick shallow sand shale and carbonate rock formations. The Ordovician rocks in the Paleozoic are mainly light gray and gray thick layered limestone, crystalline limestone and leopard skin limestone; the Carboniferous rocks are mainly gray-white siltstone, clay rock, shale and thin layer limestone. Several layers of coal; the two rocks are mainly grayish white, dark gray sandstone and variegated mudstone and brown shale, rich in plant fossils. The Mesozoic Jurassic rocks are mainly brown sandstone, conglomerate, variegated mudstone and glutenite. The Cenozoic is made up of Tertiary and Quaternary strata. The Tertiary is sandstone, sticky sandstone, and mudstone; the Quaternary strata are loose rock formations composed of Wenyu alluvial deposits. The west is the Wenhe alluvial fan, the east is the Weihe alluvial fan, and the two overlapping alluvial fans are located in the area of Qianqian-Da\\'an-Tianqi Temple.\\nYanzhou District is located in the sloping plain of the southwestern part of the Mount Tai in the Luzhong Mountains. The west is flooded by the flood waters, and the flood alluvial landforms are obvious; the eastern waters are discharged to the southwest, and the terrain is inclined from the northeast to the southwest; the central Guangfu River and the Yangjiahe River are parallel and the terrain is low. The ground elevation is 60~38 meters, the height difference is 22 meters and the average elevation is 49 meters, and the average slope is 1/1500. The northeast is affected by the structure and is a shallow buried area of the Tertiary, with a large slope on the ground. The plain area is 64,670 hectares, accounting for 99.7% of the total area; it is divided into three types: micro-sloping ground, depression and slow-moving. The area is 45,601 hectares, accounting for 70.35% of the total area; the area is 12276.9 hectares, accounting for 18.94% of the total area; the area is 6792.2 hectares, accounting for 10.48% of the total area.\\nThe hills in the territory belong to the bedrock of the Mount Tai hidden under the Quaternary cover. There is a hill 15 kilometers west of the city, named Ziyang Mountain. It is the only hill in Yanzhou. It is a bare hill of the Ordovician limestone. It is a low hill type. It is divided into two peaks, east peak is 75 meters above sea level, and west peak is 72.5 meters above sea level. The mountain is spread from east to west, 1.5 kilometers long and one kilometer wide, covering an area of 1.5 square kilometers. The rock is limestone, and the Qing Dynasty has been sporadic mining, although it is forbidden. In the later period of the \"Cultural Revolution\", the trees on the mountain were cut down, and the mountain quarry was cut off. The East Peak had become a deep valley, and the west peak still existed.\\n\\nClimate\\nYanzhou has a monsoon-influenced, four-season humid continental climate (Köppen Dwa). Winters are cold and dry while summers are hot and humid. Monthly daily average temperatures range from −1.0 °C (30.2 °F) in January to 26.8 °C (80.2 °F), while the annual mean temperature is 13.79 °C (56.8 °F). More than 70% of the annual precipitation occurs from June to September, with barely any occurring in the winter months. The city receives 2,461 hours of bright sunshine annually.\\n\\nEconomy\\n2012 GDP reached 50.62 billion yuan, up 13.1 percent; local fiscal revenue 3.008 billion yuan, an increase of 22.65%; major economic indicators higher than the provincial average, income growth higher than the GDP growth rate of urban and rural residents. First three quarters of 2012, the GDP of 41.35 billion yuan, an increase of 11.9%; 1–10 months, local fiscal revenue 3.13 billion yuan, up 14.4 percent; 17.94 billion yuan in fixed assets investment, an increase of 22.9%.Yanzhou Coal Mining Company is headquartered in Yanzhou.\\nThe economic aggregate has reached a new level. According to preliminary calculations, in 2017, the region\\'s Gross Regional Product (GDP) exceeded 70 billion yuan, reaching 72.312 billion yuan, a year-on-year increase of 6.7% at comparable prices. Among them, the added value of the primary industry was 4.659 billion yuan, up 2.8% year-on-year; the added value of the secondary industry was 39.699 billion yuan, up 6.1% year-on-year; the added value of the tertiary industry was 27.954 billion yuan, up 8.4% year-on-year. According to the industry, the added value of agriculture, forestry, animal husbandry and fishery was 4.794 billion yuan, up 3.2%; the industrial added value was 35.909 billion yuan, up 6.8%; the construction industry added value was 3.808 billion yuan, down 0.4%; the wholesale and retail industry added value was 7.805 billion yuan. , an increase of 1.9%; transportation, warehousing and postal industry added value of 2.267 billion yuan, an increase of 8.6%; accommodation and catering industry added value of 891 million yuan, an increase of 2.6%; financial industry added value of 2.094 billion yuan, an increase of 12%; real estate industry The added value was 1.197 billion yuan, an increase of 4.9%; the added value of other service industries was 13.547 billion yuan, an increase of 12.6%. The three industrial structure ratios were adjusted from 7.3:54.5:38.2 in 2016 to 6.4:54.9:38.7 in 2017. The value added of the service industry accounted for 38.7%, an increase of 0.5 percentage points over the same period of the previous year. The per capita GDP of the region reached 113,217 yuan (converted to an annual average exchange rate of 16,769 US dollars), which was 6.2% higher at comparable prices.\\n\\nTransportation\\nBeijing–Shanghai Railway\\nYanzhou–Shijiusuo Railway\\nXinxiang–Yanzhou Railway\\nRizhao–Lankao high-speed railway: Jining East railway station (济宁东站)\\n\\nHistoric Sites\\nPassage 6:\\nHeze\\nHeze, formerly known as Caozhou, is the westernmost prefecture-level city in Shandong province, China, it borders Jining to the east and the provinces of Henan and Anhui to the west and south respectively.\\n\\nHistory\\nCaozhou was at the center of the Nian Rebellion during the 1850s and 60s.\\nIn August 1949, Heze was detached from Shandong and given to the experimental province of Pingyuan. It returned to Shandong just over three years later.\\nIn April 1953, Heze and Jining gained counties from the former prefecture of Huxi after its abolishment.\\n\\nCity Flower\\nMudan is the city flower of Heze. The earliest documentary of Mudan is in Classic of Poetry (诗经), which is almost 3,000 years away from now. Mudan is also called the King of flower from Bencao Gangmu(本草纲目). It is a symbol of honor, peace, wealth, love, aristocracy, and feminine beauty. There are 9 types of Mudan based on the colors: red, white, purple, yellow, blue, green, black, pink, and multi-colored.\\n\\nClimate\\nHeze has a monsoon-influenced climate that lies between the humid subtropical and humid continental zones (Köppen Cwa/Dwa), with four well-defined seasons. The city is warm and nearly rainless in spring, hot and humid in summer, crisp in autumn and cold and dry in winter. The mean annual temperature is 14.22 °C (57.6 °F), with the monthly 24-hour average temperature ranging from −0.5 °C (31.1 °F) in January to 27.1 °C (80.8 °F) in July. Nearly 70% of the annual precipitation occurs from June to September. With monthly percent possible sunshine ranging from 48% in July to 60% in May, the city receives 2,411 hours of bright sunshine annually.\\n\\nAdministration\\nThe prefecture-level city of Heze administers nine county-level divisions. The municipal executive, legislature and judiciary are in Mudan District (牡丹区), together with CPC and Public Security bureaux.\\nThere are two districts and seven counties:\\n\\nMudan District (牡丹区)\\nDingtao District (定陶区)\\nCao County (曹县)\\nChengwu County (成武县) - originally in Huxi\\nShan County (单县) - originally in Huxi\\nJuye County (巨野县) - originally in Huxi\\nYuncheng County (郓城县)\\nJuancheng County (鄄城县)\\nDongming County (东明县)These are further divided into 158 township-level divisions.\\n\\nDemographics\\nAccording to the 2010 population census, Heze was home to 8,287,693 people, of whom 1,346,717 live in the built-up area around the seat of government in Mudan District.\\n\\nCulture\\nPlaces of Interests\\nCaozhou Mudan Garden: It is the largest Mudan Garden in Heze with the most varieties.\\nOne Hundred Lion Square: It is famous for its column carved 100 different posture stone lions. It is the symbol of best wishes and longevities. The archway is 14 meters high and 9 meters wide. The 100 lions with different shapes represent superb architectural skills and immortal artistic value, which fully embodies the wisdom and strength of the ancient people.\\nShui Hu Hero City: It is famous for the teaching and communication of martial arts and ancient buildings. It is also the Chinese ancient residence museum, CCTV recommended tour routes, and the source of Water Margins.\\n\\nFoods\\nShanxian Lamb Soup: The soup is founded in 1807. The taste is fresh but not mutton, and fragrant but not greasy. After more than 200 years of development and innovation of soup, it can be carried forward and accepted in many years. It is not only refreshing, but also functional in medicinal meal.\\nPeony Cake: During the Flower Festival is the season when peonies are in full bloom, Wu Zetian led a maid to enjoy the flowers in the garden and ordered the maid to pluck a large number of flowers of various colors. After return to the palace, according to her design, she mashed them with rice, and steamed them to make a cake, which is called \"Hundred Flower Cake\". And she used this dessert as a gift to the officials.\\nPijia Roast Chicken: The sauce is in color red, and you can smell the rich roast chicken scent just a few feet away from the pot. Its outstanding characteristics are fresh, fragrant, and tender with consistent taste inside and out.\\nCaozhou Sesame Cake: Its shape is round as moon, tender inside with a crispy crust. It has ingredients of wheat essence powder, sesame oil, salt, pepper, fennel powder and other ingredients made of oil flesh.\\n\\nTransportation\\nHighway: China National Highway 220; China National Highway 105; China National Highway 106; China National Highway 240; China National Highway 327\\nHeze Mudan Airport opened on April 2, 2021.\\nConventional rail services call at Heze railway station, high-speed services call at Heze East railway station.\\n\\nFamous Figures\\nAncient times: Fuxi, Yao, Shun, Song Jiang, Wu Yong, Cao Zhi\\nCurrent: Peng Liyuan, Zhang Jizhong, Fan Shaohuang\\n\\nEconomy\\nHeze is the largest center in China for the cultivation of the \"national flower\" peony, after which the Mudan District was named. Over 30% of its GDP comes from the sale of peony.\\n\\nSister Cities\\nMobile, Alabama\\nPassage 7:\\nShizhong District, Jining\\nShizhong District is a former district of the city of Jining in Shandong province, China. In November 2013 it was merged into Rencheng District.\\nPassage 8:\\nZhongshan High School of Northeast\\nZhongshan High School of Northeast (东北中山中学) (Hereinafter abbreviated as nezs) is a secondary school located in Heping District, Shenyang, Liaoning, China. It was the first national high school in Republic of China. Its first name is National Northeast Zhongshan High School (國立東北中山中學). Nezs is the only one middle school join in the December 9th Movement.\\nIt was established in Peiking in 1934. The first headmaster is Li Xi\\'en, who is Jilin University\\'s headmaster. In the autumn of 1936, nezs moved to Banqiao, Nanjing because of the Second Sino-Japanese War. After the war\\'s end, in 1946, nezs moved to Shenyang, Liaoning, and then changed name to Shenyang No.39 middle school. In 1996, nezs rehabilitated the name Zhongshan High School of Northeast. In 1998, nezs become the Shenyang important middle School (沈阳市重点中学). In 1999, it became the Liaoning important school (辽宁省重点中学).\\nPassage 9:\\nYan Prefecture (Shandong)\\nYanzhou or Yan Prefecture was a zhou (prefecture) in imperial China centering on modern Yanzhou District, Jining, Shandong, China. It existed (intermittently) until 1385, when the Ming dynasty created Yanzhou Prefecture.\\nYan Prefecture was named after Yan Province, one of the Nine Provinces of ancient China. The modern district of Yanzhou District retains its name.\\n\\nGeography\\nThe administrative region of Yan Prefecture in the Tang dynasty is in modern central Shandong. It probably includes parts of modern: \\n\\nUnder the administration of Jining:\\nJining\\nQufu\\nZoucheng\\nWenshang County\\nSishui County\\nUnder the administration of Tai\\'an:\\nTai\\'an\\nNingyang County\\nUnder the administration of Laiwu:\\nLaiwu\\nPassage 10:\\nLiaoning Province Shiyan High School\\nLiaoning Province Shiyan High School (Chinese: 辽宁省实验中学; pinyin: Liáoníngshěng Shíyàn Zhōngxué), originally called Northeast Shiyan School (Chinese: 东北实验学校; pinyin: Dōngběi Shíyàn Xuéxiào), is a public high school located in Huanggu District, in the city of Shenyang, Liaoning, China. It is the number one ranked high school in Shenyang, ranking by high school entrance examination grades.\\n\\nHistory\\nLiaoning Province Shiyan High School was founded on May 4, 1949. It is the only Secondary School that is operated under direct supervision of the Department of Education in Liaoning Province. The first appointed headmaster was the Vice-governor and notable educationist Mr. Che Xiangchen.\\nIn July 2007, the School was selected as an Olympic Model Schools in Liaoning Province.\\n\\nNotes\\nExternal links\\nOfficial website of Liaoning Experimental High School\\n```\\n\\nQuestion: Which city is under Jining, Kaiyuan, Liaoning or Yanzhou District?\\n\\n[/INST]\\nAnswer:\\n',\n",
       " 'prompt_len': 7384,\n",
       " 'question_len': 22,\n",
       " 'context_len': 7267}"
      ]
     },
     "execution_count": 91,
     "metadata": {},
     "output_type": "execute_result"
    }
   ],
   "source": [
    "combined_rows[0]"
   ]
  },
  {
   "cell_type": "code",
   "execution_count": 107,
   "metadata": {},
   "outputs": [],
   "source": [
    "dataset_all = pd.DataFrame(combined_rows)\n",
    "dataset_all.to_csv(DATASET_DIR / 'dataset_all.csv', escapechar='\"', index=False)"
   ]
  },
  {
   "cell_type": "code",
   "execution_count": 94,
   "metadata": {},
   "outputs": [
    {
     "data": {
      "text/plain": [
       "count     1700.000000\n",
       "mean     14639.289412\n",
       "std      12233.962324\n",
       "min        305.000000\n",
       "25%       7048.750000\n",
       "50%      12262.500000\n",
       "75%      18248.250000\n",
       "max      84241.000000\n",
       "Name: prompt_len, dtype: float64"
      ]
     },
     "execution_count": 94,
     "metadata": {},
     "output_type": "execute_result"
    }
   ],
   "source": [
    "dataset_all.prompt_len.describe()"
   ]
  },
  {
   "cell_type": "code",
   "execution_count": 98,
   "metadata": {},
   "outputs": [
    {
     "data": {
      "text/html": [
       "<div>\n",
       "<style scoped>\n",
       "    .dataframe tbody tr th:only-of-type {\n",
       "        vertical-align: middle;\n",
       "    }\n",
       "\n",
       "    .dataframe tbody tr th {\n",
       "        vertical-align: top;\n",
       "    }\n",
       "\n",
       "    .dataframe thead th {\n",
       "        text-align: right;\n",
       "    }\n",
       "</style>\n",
       "<table border=\"1\" class=\"dataframe\">\n",
       "  <thead>\n",
       "    <tr style=\"text-align: right;\">\n",
       "      <th></th>\n",
       "      <th>prompt_len</th>\n",
       "      <th>question_len</th>\n",
       "      <th>context_len</th>\n",
       "    </tr>\n",
       "  </thead>\n",
       "  <tbody>\n",
       "    <tr>\n",
       "      <th>count</th>\n",
       "      <td>105.000000</td>\n",
       "      <td>105.000000</td>\n",
       "      <td>105.000000</td>\n",
       "    </tr>\n",
       "    <tr>\n",
       "      <th>mean</th>\n",
       "      <td>2867.657143</td>\n",
       "      <td>334.085714</td>\n",
       "      <td>2438.571429</td>\n",
       "    </tr>\n",
       "    <tr>\n",
       "      <th>std</th>\n",
       "      <td>797.591239</td>\n",
       "      <td>438.178926</td>\n",
       "      <td>869.577637</td>\n",
       "    </tr>\n",
       "    <tr>\n",
       "      <th>min</th>\n",
       "      <td>305.000000</td>\n",
       "      <td>12.000000</td>\n",
       "      <td>191.000000</td>\n",
       "    </tr>\n",
       "    <tr>\n",
       "      <th>25%</th>\n",
       "      <td>2370.000000</td>\n",
       "      <td>20.000000</td>\n",
       "      <td>1814.000000</td>\n",
       "    </tr>\n",
       "    <tr>\n",
       "      <th>50%</th>\n",
       "      <td>3051.000000</td>\n",
       "      <td>32.000000</td>\n",
       "      <td>2492.000000</td>\n",
       "    </tr>\n",
       "    <tr>\n",
       "      <th>75%</th>\n",
       "      <td>3498.000000</td>\n",
       "      <td>622.000000</td>\n",
       "      <td>3118.000000</td>\n",
       "    </tr>\n",
       "    <tr>\n",
       "      <th>max</th>\n",
       "      <td>3997.000000</td>\n",
       "      <td>1647.000000</td>\n",
       "      <td>3883.000000</td>\n",
       "    </tr>\n",
       "  </tbody>\n",
       "</table>\n",
       "</div>"
      ],
      "text/plain": [
       "        prompt_len  question_len  context_len\n",
       "count   105.000000    105.000000   105.000000\n",
       "mean   2867.657143    334.085714  2438.571429\n",
       "std     797.591239    438.178926   869.577637\n",
       "min     305.000000     12.000000   191.000000\n",
       "25%    2370.000000     20.000000  1814.000000\n",
       "50%    3051.000000     32.000000  2492.000000\n",
       "75%    3498.000000    622.000000  3118.000000\n",
       "max    3997.000000   1647.000000  3883.000000"
      ]
     },
     "execution_count": 98,
     "metadata": {},
     "output_type": "execute_result"
    }
   ],
   "source": [
    "dataset_all[dataset_all.prompt_len <= 3997].describe()"
   ]
  },
  {
   "cell_type": "code",
   "execution_count": 9,
   "metadata": {},
   "outputs": [],
   "source": [
    "BASE_PARAMS = {\n",
    "    \"do_sample\": True,\n",
    "    \"temperature\": 0.7,\n",
    "    \"top_p\": 0.92,\n",
    "    \"top_k\": 120,\n",
    "}"
   ]
  },
  {
   "cell_type": "code",
   "execution_count": 10,
   "metadata": {},
   "outputs": [],
   "source": [
    "def build_huggingface_json_request(item, max_new_tokens=100):\n",
    "    params = BASE_PARAMS.copy()\n",
    "    params[\"truncate\"] = item.prompt_len\n",
    "    params[\"max_new_tokens\"] = max_new_tokens\n",
    "    return {\n",
    "        \"inputs\": item.prompt,\n",
    "        \"parameters\": params,\n",
    "    }"
   ]
  },
  {
   "cell_type": "markdown",
   "metadata": {},
   "source": [
    "## Initial Dataset\n",
    "\n",
    "In the future we will recursively split the input documents into paragraph \n",
    "chunks and reduce some of the much longer contexts to a range of close to \n",
    "4000 tokens. \n",
    "\n",
    "For now we have 105 samples, in the range 305 to 3997, choosing 3997 as the\n",
    "maximum to allow for `max_new_tokens` of 100."
   ]
  },
  {
   "cell_type": "code",
   "execution_count": 12,
   "metadata": {},
   "outputs": [],
   "source": [
    "if \"dataset_all\" not in locals():\n",
    "    dataset_all = pd.read_csv(DATASET_DIR / \"dataset_all.csv\")"
   ]
  },
  {
   "cell_type": "code",
   "execution_count": 14,
   "metadata": {},
   "outputs": [],
   "source": [
    "json_requests = dataset_all[dataset_all.prompt_len <= 3997].apply(build_huggingface_json_request, axis=1)"
   ]
  },
  {
   "cell_type": "code",
   "execution_count": 15,
   "metadata": {},
   "outputs": [
    {
     "data": {
      "text/plain": [
       "{'inputs': '<s>[INST] <<SYS>>\\nYou are an assistant for question-answering tasks. Use the following pieces of retrieved context in the section demarcated by \"```\" to answer the question. If you don\\'t know the answer just say that you don\\'t know. Use three sentences maximum and keep the answer concise.\\n<</SYS>>\\n\\n```\\nPassage 1:\\nHuernia\\nThe genus Huernia (family Apocynaceae, subfamily Asclepiadoideae) consists of perennial, stem succulents from Eastern and Southern Africa and Arabia, first described as a genus in 1810.The flowers are five-lobed, usually somewhat more funnel- or bell-shaped than in the closely related genus Stapelia, and often striped vividly in contrasting colors or tones, some glossy, others matte and wrinkled depending on the species concerned. Frequently the flowers are colored a variation of red, yellow or brown. To pollinate, the flowers attract flies by emitting a scent similar to that of carrion. The genus is considered close to the genera Stapelia and Hoodia. Phylogenetic studies have shown the genus to be monophyletic, and most closely related to the genus Tavaresia, and to a widespread branch of stapeliads comprising the genera Orbea, Piaranthus and Stapelia.The name of the plant is in honor of Justus van Heurne (1587–1653?) a Dutch missionary, botanist, and doctor, who is reputed to have been the first European to document and collect South African Cape plants. His surname has variations (van Horne, Heurnius, van Heurnius), however it was misspelled by the plant collector.Various species of Huernia are considered famine food by the inhabitants of Konso special woreda in southern Ethiopia. The local inhabitants, who call the native species of this genus baqibaqa indiscriminately, eat it with prepared balls of sorghum (kurkufa); they note that baqibaqa tastes relatively good and has no unpleasant side-effects when boiled and consumed. As a result, local farmers encouraged it to grow on stone walls forming the terraces, where it does not compete with other crops.\\n\\nSpecies\\nThe follow species of Huernia are found in Africa (East Africa, South Africa and Ethiopia) and Arabia (Saudi Arabia, Yemen).\\nformerly includedmoved to Angolluma\\n\\nHuernia sprengeri now Angolluma sprengeri\\nPassage 2:\\nDictyosperma\\nDictyosperma is a monotypic genus of flowering plant in the palm family found in the Mascarene Islands in the Indian Ocean (Mauritius, Réunion and Rodrigues). The sole species, Dictyosperma album, is widely cultivated in the tropics but has been farmed to near extinction in its native habitat. It is commonly called princess palm or hurricane palm, the latter owing to its ability to withstand strong winds by easily shedding leaves. It is closely related to, and resembles, palms in the genus Archontophoenix. The genus is named from two Greek words meaning \"net\" and \"seed\" and the epithet is Latin for \"white\", the common color of the crownshaft at the top of the trunk.\\n\\nDescription\\nThe ringed trunks are solitary at 15 cm in diameter with a slight bulge at the base, occasionally reaching up to 12 m in height. The crownshaft is over a meter tall, swollen at the base, and covered in white wax— which has given the palm its epithet album— and small, matted brown hairs, producing a rounded leaf crown 4.5 m wide and 3 m tall. The 2.5 to 3 m leaves are borne on short 30 cm petioles; the arching leaflets are pointed at the apice, from 60 – 90 cm, dark green in color, and emerge from the rachis in a single plane.\\nOn flowering, they produce up to six inflorescences which ring the trunk below the crownshaft, branched to one order, with white to yellow flowers, which are male and female; both pistillate and staminate flowers have three sepals and three petals, the former being smaller than the latter. The ovoid fruit ripen to purple or black in color, containing one brown, ellipsoidal seed.\\nThree varieties are currently recognized:\\n\\nDictyosperma album var. album (Bory) Scheff. - Mauritius, Réunion\\nDictyosperma album var. aureum Balf.f. in J.G.Baker - Rodrigues Island\\nDictyosperma album var. conjugatum H.E.Moore & J.Guého - 2 remaining specimens on Île Ronde of Mauritius (Characterised by shorter trunk and white leaf-scar)\\n\\nDistribution and habitat\\nLiving in the coastal forests of the Mascarenes, they experience warm temperatures, high humidity and regular rainfall.\\n\\nAsterolecanium dictyospermae\\nAsterolecanium dictyospermae is a species of sap sucking scale insect found only on Île Ronde on the two remaining Dictyosperma album var. conjugatum specimens. It apparently evolved on Île Ronde and became restricted to feeding upon the island\\'s endemic variety, and due to interbreeding (between varieties) on Mauritius itself which jeopardized reproductive potential, the scale insect increased in population as a result of stress upon the host, which then threatens the existence of both host and scale insect.\\n```\\n\\nQuestion: Are both Dictyosperma, and Huernia described as a genus?\\n\\n[/INST]\\nAnswer:\\n',\n",
       " 'parameters': {'do_sample': True,\n",
       "  'temperature': 0.7,\n",
       "  'top_p': 0.92,\n",
       "  'top_k': 120,\n",
       "  'truncate': 1374,\n",
       "  'max_new_tokens': 100}}"
      ]
     },
     "execution_count": 15,
     "metadata": {},
     "output_type": "execute_result"
    }
   ],
   "source": [
    "json_requests.iloc[0]"
   ]
  },
  {
   "cell_type": "code",
   "execution_count": 17,
   "metadata": {},
   "outputs": [],
   "source": [
    "json_requests.to_json(DATASET_DIR / \"huggingface-requests-305-3997.jsonl\", orient='records', lines=True)"
   ]
  },
  {
   "cell_type": "code",
   "execution_count": null,
   "metadata": {},
   "outputs": [],
   "source": []
  }
 ],
 "metadata": {
  "kernelspec": {
   "display_name": "lab",
   "language": "python",
   "name": "python3"
  },
  "language_info": {
   "codemirror_mode": {
    "name": "ipython",
    "version": 3
   },
   "file_extension": ".py",
   "mimetype": "text/x-python",
   "name": "python",
   "nbconvert_exporter": "python",
   "pygments_lexer": "ipython3",
   "version": "3.10.13"
  }
 },
 "nbformat": 4,
 "nbformat_minor": 2
}
